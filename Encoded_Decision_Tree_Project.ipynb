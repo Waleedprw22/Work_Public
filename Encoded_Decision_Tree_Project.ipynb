{
  "nbformat": 4,
  "nbformat_minor": 0,
  "metadata": {
    "colab": {
      "provenance": [],
      "include_colab_link": true
    },
    "kernelspec": {
      "name": "python3",
      "display_name": "Python 3"
    },
    "language_info": {
      "name": "python"
    }
  },
  "cells": [
    {
      "cell_type": "markdown",
      "metadata": {
        "id": "view-in-github",
        "colab_type": "text"
      },
      "source": [
        "<a href=\"https://colab.research.google.com/github/Waleedprw22/Work_Public/blob/main/Encoded_Decision_Tree_Project.ipynb\" target=\"_parent\"><img src=\"https://colab.research.google.com/assets/colab-badge.svg\" alt=\"Open In Colab\"/></a>"
      ]
    },
    {
      "cell_type": "code",
      "execution_count": null,
      "metadata": {
        "id": "TEJLWOjhIebv"
      },
      "outputs": [],
      "source": [
        "%matplotlib inline\n",
        "import matplotlib.pyplot as plt\n",
        "import numpy as np\n",
        "import pandas as pd\n",
        "import seaborn as sns\n",
        "from sklearn import tree\n",
        "from sklearn.model_selection import train_test_split\n",
        "from sklearn.metrics import confusion_matrix, accuracy_score\n",
        "\n",
        "\n"
      ]
    },
    {
      "cell_type": "code",
      "source": [
        "salary = pd.read_csv(\"Clean_AdultData - Clean_AdultData.csv\")\n",
        "salary_test = pd.read_csv(\"Clean_AdultTest_Updated.csv\")\n",
        "# 3 places: USA, Europe, Asia. \"One hot encoding\" is as follows: [0,0] - Neither Europe or Asia -> then 1, USA. 2, Europe -> [1,0]. 3, Asia -> [0,1]\n",
        "#salary\n",
        "\n",
        "list(salary_test.columns.values)\n"
      ],
      "metadata": {
        "colab": {
          "base_uri": "https://localhost:8080/"
        },
        "id": "n0SoIYourt3V",
        "outputId": "119e2f2d-5233-49c9-c2be-0d7eeb3d76e2"
      },
      "execution_count": null,
      "outputs": [
        {
          "output_type": "execute_result",
          "data": {
            "text/plain": [
              "['age',\n",
              " 'fnlwgt',\n",
              " 'education_num',\n",
              " 'capital_gain',\n",
              " 'capital_loss',\n",
              " 'hours_per_week',\n",
              " 'workclass_ Federal-gov',\n",
              " 'workclass_ Local-gov',\n",
              " 'workclass_ Private',\n",
              " 'workclass_ Self-emp-inc',\n",
              " 'workclass_ Self-emp-not-inc',\n",
              " 'workclass_ State-gov',\n",
              " 'workclass_ Without-pay',\n",
              " 'education_ 10th',\n",
              " 'education_ 11th',\n",
              " 'education_ 12th',\n",
              " 'education_ 1st-4th',\n",
              " 'education_ 5th-6th',\n",
              " 'education_ 7th-8th',\n",
              " 'education_ 9th',\n",
              " 'education_ Assoc-acdm',\n",
              " 'education_ Assoc-voc',\n",
              " 'education_ Bachelors',\n",
              " 'education_ Doctorate',\n",
              " 'education_ HS-grad',\n",
              " 'education_ Masters',\n",
              " 'education_ Preschool',\n",
              " 'education_ Prof-school',\n",
              " 'education_ Some-college',\n",
              " 'marital_status_ Divorced',\n",
              " 'marital_status_ Married-AF-spouse',\n",
              " 'marital_status_ Married-civ-spouse',\n",
              " 'marital_status_ Married-spouse-absent',\n",
              " 'marital_status_ Never-married',\n",
              " 'marital_status_ Separated',\n",
              " 'marital_status_ Widowed',\n",
              " 'occupation_ Adm-clerical',\n",
              " 'occupation_ Armed-Forces',\n",
              " 'occupation_ Craft-repair',\n",
              " 'occupation_ Exec-managerial',\n",
              " 'occupation_ Farming-fishing',\n",
              " 'occupation_ Handlers-cleaners',\n",
              " 'occupation_ Machine-op-inspct',\n",
              " 'occupation_ Other-service',\n",
              " 'occupation_ Priv-house-serv',\n",
              " 'occupation_ Prof-specialty',\n",
              " 'occupation_ Protective-serv',\n",
              " 'occupation_ Sales',\n",
              " 'occupation_ Tech-support',\n",
              " 'occupation_ Transport-moving',\n",
              " 'relationship_ Husband',\n",
              " 'relationship_ Not-in-family',\n",
              " 'relationship_ Other-relative',\n",
              " 'relationship_ Own-child',\n",
              " 'relationship_ Unmarried',\n",
              " 'relationship_ Wife',\n",
              " 'race_ Amer-Indian-Eskimo',\n",
              " 'race_ Asian-Pac-Islander',\n",
              " 'race_ Black',\n",
              " 'race_ Other',\n",
              " 'race_ White',\n",
              " 'sex_ Female',\n",
              " 'sex_ Male',\n",
              " 'native_country_ Cambodia',\n",
              " 'native_country_ Canada',\n",
              " 'native_country_ China',\n",
              " 'native_country_ Columbia',\n",
              " 'native_country_ Cuba',\n",
              " 'native_country_ Dominican-Republic',\n",
              " 'native_country_ Ecuador',\n",
              " 'native_country_ El-Salvador',\n",
              " 'native_country_ England',\n",
              " 'native_country_ France',\n",
              " 'native_country_ Germany',\n",
              " 'native_country_ Greece',\n",
              " 'native_country_ Guatemala',\n",
              " 'native_country_ Haiti',\n",
              " 'native_country_ Holand-Netherlands',\n",
              " 'native_country_ Honduras',\n",
              " 'native_country_ Hong',\n",
              " 'native_country_ Hungary',\n",
              " 'native_country_ India',\n",
              " 'native_country_ Iran',\n",
              " 'native_country_ Ireland',\n",
              " 'native_country_ Italy',\n",
              " 'native_country_ Jamaica',\n",
              " 'native_country_ Japan',\n",
              " 'native_country_ Laos',\n",
              " 'native_country_ Mexico',\n",
              " 'native_country_ Nicaragua',\n",
              " 'native_country_ Outlying-US(Guam-USVI-etc)',\n",
              " 'native_country_ Peru',\n",
              " 'native_country_ Philippines',\n",
              " 'native_country_ Poland',\n",
              " 'native_country_ Portugal',\n",
              " 'native_country_ Puerto-Rico',\n",
              " 'native_country_ Scotland',\n",
              " 'native_country_ South',\n",
              " 'native_country_ Taiwan',\n",
              " 'native_country_ Thailand',\n",
              " 'native_country_ Trinadad&Tobago',\n",
              " 'native_country_ United-States',\n",
              " 'native_country_ Vietnam',\n",
              " 'native_country_ Yugoslavia',\n",
              " 'income_ >50K']"
            ]
          },
          "metadata": {},
          "execution_count": 2
        }
      ]
    },
    {
      "cell_type": "code",
      "source": [
        "def error_rate(p: float):\n",
        "    \"\"\"Classification error rate for a given binary class ratio\"\"\"\n",
        "    return p if p < 0.5 else 1 - p\n",
        "\n",
        "def gini_index(p: float):\n",
        "    \"\"\"Gini index for a given binary class ratio.\"\"\"\n",
        "    return 2 * p * (1 - p)\n",
        "\n",
        "def entropy(p: float):\n",
        "    \"\"\"Entropy for a given binary class ratio, normalized by ln(2)\"\"\"\n",
        "    return -(p * np.log(p + 1e-16) + (1 - p) * np.log(1 - p + 1e-16)) / (np.log(2) / 0.5)\n",
        "\n",
        "list(salary.columns.values)\n",
        "#one_hot_encoded_data = pd.get_dummies(salary, columns = ['workclass','education', 'marital-status', 'occupation', 'relationship', 'race', 'sex', 'native-country', 'class'])\n",
        "#one_hot_encoded_data\n",
        "\n",
        "#one_hot_encoded_data = one_hot_encoded_data.dropna()\n",
        "\n",
        "#list(one_hot_encoded_data.columns.values)\n"
      ],
      "metadata": {
        "colab": {
          "base_uri": "https://localhost:8080/"
        },
        "id": "zadaSBkdsp8i",
        "outputId": "1e2dd29b-a6f9-4e4f-b41d-1fc816676499"
      },
      "execution_count": null,
      "outputs": [
        {
          "output_type": "execute_result",
          "data": {
            "text/plain": [
              "['Unnamed: 0',\n",
              " 'age',\n",
              " 'fnlwgt',\n",
              " 'education_num',\n",
              " 'capital_gain',\n",
              " 'capital_loss',\n",
              " 'hours_per_week',\n",
              " 'workclass_ Federal-gov',\n",
              " 'workclass_ Local-gov',\n",
              " 'workclass_ Private',\n",
              " 'workclass_ Self-emp-inc',\n",
              " 'workclass_ Self-emp-not-inc',\n",
              " 'workclass_ State-gov',\n",
              " 'workclass_ Without-pay',\n",
              " 'education_ 10th',\n",
              " 'education_ 11th',\n",
              " 'education_ 12th',\n",
              " 'education_ 1st-4th',\n",
              " 'education_ 5th-6th',\n",
              " 'education_ 7th-8th',\n",
              " 'education_ 9th',\n",
              " 'education_ Assoc-acdm',\n",
              " 'education_ Assoc-voc',\n",
              " 'education_ Bachelors',\n",
              " 'education_ Doctorate',\n",
              " 'education_ HS-grad',\n",
              " 'education_ Masters',\n",
              " 'education_ Preschool',\n",
              " 'education_ Prof-school',\n",
              " 'education_ Some-college',\n",
              " 'marital_status_ Divorced',\n",
              " 'marital_status_ Married-AF-spouse',\n",
              " 'marital_status_ Married-civ-spouse',\n",
              " 'marital_status_ Married-spouse-absent',\n",
              " 'marital_status_ Never-married',\n",
              " 'marital_status_ Separated',\n",
              " 'marital_status_ Widowed',\n",
              " 'occupation_ Adm-clerical',\n",
              " 'occupation_ Armed-Forces',\n",
              " 'occupation_ Craft-repair',\n",
              " 'occupation_ Exec-managerial',\n",
              " 'occupation_ Farming-fishing',\n",
              " 'occupation_ Handlers-cleaners',\n",
              " 'occupation_ Machine-op-inspct',\n",
              " 'occupation_ Other-service',\n",
              " 'occupation_ Priv-house-serv',\n",
              " 'occupation_ Prof-specialty',\n",
              " 'occupation_ Protective-serv',\n",
              " 'occupation_ Sales',\n",
              " 'occupation_ Tech-support',\n",
              " 'occupation_ Transport-moving',\n",
              " 'relationship_ Husband',\n",
              " 'relationship_ Not-in-family',\n",
              " 'relationship_ Other-relative',\n",
              " 'relationship_ Own-child',\n",
              " 'relationship_ Unmarried',\n",
              " 'relationship_ Wife',\n",
              " 'race_ Amer-Indian-Eskimo',\n",
              " 'race_ Asian-Pac-Islander',\n",
              " 'race_ Black',\n",
              " 'race_ Other',\n",
              " 'race_ White',\n",
              " 'sex_ Female',\n",
              " 'sex_ Male',\n",
              " 'native_country_ Cambodia',\n",
              " 'native_country_ Canada',\n",
              " 'native_country_ China',\n",
              " 'native_country_ Columbia',\n",
              " 'native_country_ Cuba',\n",
              " 'native_country_ Dominican-Republic',\n",
              " 'native_country_ Ecuador',\n",
              " 'native_country_ El-Salvador',\n",
              " 'native_country_ England',\n",
              " 'native_country_ France',\n",
              " 'native_country_ Germany',\n",
              " 'native_country_ Greece',\n",
              " 'native_country_ Guatemala',\n",
              " 'native_country_ Haiti',\n",
              " 'native_country_ Holand-Netherlands',\n",
              " 'native_country_ Honduras',\n",
              " 'native_country_ Hong',\n",
              " 'native_country_ Hungary',\n",
              " 'native_country_ India',\n",
              " 'native_country_ Iran',\n",
              " 'native_country_ Ireland',\n",
              " 'native_country_ Italy',\n",
              " 'native_country_ Jamaica',\n",
              " 'native_country_ Japan',\n",
              " 'native_country_ Laos',\n",
              " 'native_country_ Mexico',\n",
              " 'native_country_ Nicaragua',\n",
              " 'native_country_ Outlying-US(Guam-USVI-etc)',\n",
              " 'native_country_ Peru',\n",
              " 'native_country_ Philippines',\n",
              " 'native_country_ Poland',\n",
              " 'native_country_ Portugal',\n",
              " 'native_country_ Puerto-Rico',\n",
              " 'native_country_ Scotland',\n",
              " 'native_country_ South',\n",
              " 'native_country_ Taiwan',\n",
              " 'native_country_ Thailand',\n",
              " 'native_country_ Trinadad&Tobago',\n",
              " 'native_country_ United-States',\n",
              " 'native_country_ Vietnam',\n",
              " 'native_country_ Yugoslavia',\n",
              " 'income_ >50K']"
            ]
          },
          "metadata": {},
          "execution_count": 3
        }
      ]
    },
    {
      "cell_type": "code",
      "source": [
        "dt_model = tree.DecisionTreeClassifier(\n",
        "    criterion=\"gini\",\n",
        "    max_depth=3,\n",
        "    )\n",
        "\n",
        "features =[\n",
        " 'age',\n",
        " 'fnlwgt',\n",
        " 'education_num',\n",
        " 'capital_gain',\n",
        " 'capital_loss',\n",
        " 'hours_per_week',\n",
        " 'workclass_ Federal-gov',\n",
        " 'workclass_ Local-gov',\n",
        " 'workclass_ Private',\n",
        " 'workclass_ Self-emp-inc',\n",
        " 'workclass_ Self-emp-not-inc',\n",
        " 'workclass_ State-gov',\n",
        " 'workclass_ Without-pay',\n",
        " #'education_ 10th',\n",
        " #'education_ 11th',\n",
        " #'education_ 12th',\n",
        " #'education_ 1st-4th',\n",
        " #'education_ 5th-6th',\n",
        " #'education_ 7th-8th',\n",
        " #'education_ 9th',\n",
        " 'education_ Assoc-acdm',\n",
        " 'education_ Assoc-voc',\n",
        " 'education_ Bachelors',\n",
        " 'education_ Doctorate',\n",
        " 'education_ HS-grad',\n",
        " 'education_ Masters',\n",
        " #'education_ Preschool',\n",
        " 'education_ Prof-school',\n",
        " 'education_ Some-college',\n",
        " 'marital_status_ Divorced',\n",
        " 'marital_status_ Married-AF-spouse',\n",
        " 'marital_status_ Married-civ-spouse',\n",
        " 'marital_status_ Married-spouse-absent',\n",
        " 'marital_status_ Never-married',\n",
        " 'marital_status_ Separated',\n",
        " 'marital_status_ Widowed',\n",
        " 'occupation_ Adm-clerical',\n",
        " 'occupation_ Armed-Forces',\n",
        " 'occupation_ Craft-repair',\n",
        " 'occupation_ Exec-managerial',\n",
        " 'occupation_ Farming-fishing',\n",
        " 'occupation_ Handlers-cleaners',\n",
        " 'occupation_ Machine-op-inspct',\n",
        " 'occupation_ Other-service',\n",
        " 'occupation_ Priv-house-serv',\n",
        " 'occupation_ Prof-specialty',\n",
        " 'occupation_ Protective-serv',\n",
        " 'occupation_ Sales',\n",
        " 'occupation_ Tech-support',\n",
        " 'occupation_ Transport-moving',\n",
        " #'relationship_ Husband',\n",
        " #'relationship_ Not-in-family',\n",
        " #'relationship_ Other-relative',\n",
        " #'relationship_ Own-child',\n",
        " #'relationship_ Unmarried',\n",
        " #'relationship_ Wife',\n",
        " 'race_ Amer-Indian-Eskimo',\n",
        " 'race_ Asian-Pac-Islander',\n",
        " 'race_ Black',\n",
        " 'race_ Other',\n",
        " 'race_ White',\n",
        " 'sex_ Female',\n",
        " 'sex_ Male',\n",
        "# 'native_country_ Cambodia',\n",
        "# 'native_country_ Canada',\n",
        "# 'native_country_ China',\n",
        "# 'native_country_ Columbia',\n",
        "# 'native_country_ Cuba',\n",
        "# 'native_country_ Dominican-Republic',\n",
        "# 'native_country_ Ecuador',\n",
        "# 'native_country_ El-Salvador',\n",
        "# 'native_country_ England',\n",
        "# 'native_country_ France',\n",
        "# 'native_country_ Germany',\n",
        "# 'native_country_ Greece',\n",
        "# 'native_country_ Guatemala',\n",
        "# 'native_country_ Haiti',\n",
        "# 'native_country_ Holand-Netherlands',\n",
        "\n",
        "# 'native_country_ Honduras',\n",
        "# 'native_country_ Hong',\n",
        "# 'native_country_ Hungary',\n",
        "# 'native_country_ India',\n",
        "# 'native_country_ Iran',\n",
        "# 'native_country_ Ireland',\n",
        "# 'native_country_ Italy',\n",
        "# 'native_country_ Jamaica',\n",
        "# 'native_country_ Japan',\n",
        "# 'native_country_ Laos',\n",
        "# 'native_country_ Mexico',\n",
        "# 'native_country_ Nicaragua',\n",
        "# 'native_country_ Outlying-US(Guam-USVI-etc)',\n",
        "# 'native_country_ Peru',\n",
        "# 'native_country_ Philippines',\n",
        "# 'native_country_ Poland',\n",
        "# 'native_country_ Portugal',\n",
        "# 'native_country_ Puerto-Rico',\n",
        "# 'native_country_ Scotland',\n",
        "# 'native_country_ South',\n",
        "# 'native_country_ Taiwan',\n",
        "# 'native_country_ Thailand',\n",
        "# 'native_country_ Trinadad&Tobago',\n",
        "# 'native_country_ United-States',\n",
        "# 'native_country_ Vietnam',\n",
        "# 'native_country_ Yugoslavia',\n",
        "\n",
        " ]\n",
        "\n",
        "label = 'income_ >50K'\n",
        "\n",
        "X = salary[features]\n",
        "X_test = salary_test[features]\n",
        "Y_test = salary_test[label]\n",
        "Y = salary[label]\n",
        "\n"
      ],
      "metadata": {
        "id": "J5uvAURQtSRq"
      },
      "execution_count": null,
      "outputs": []
    },
    {
      "cell_type": "code",
      "source": [
        "#dt_model = tree.DecisionTreeClassifier( criterion=\"entropy\", max_depth=1, )\n",
        "\n",
        "#plt.figure()\n",
        "\n",
        "#dt_model.fit(X=cancer[[\"texture_mean\"]], y=cancer[\"label\"]) _ =\n",
        "#tree.plot_tree(dt_model, feature_names=[\"texture_mean\"], filled=True) plt.show()"
      ],
      "metadata": {
        "colab": {
          "base_uri": "https://localhost:8080/",
          "height": 166
        },
        "id": "Vb0byz62CuFf",
        "outputId": "4bda467d-e490-4761-e151-32492c737b4a"
      },
      "execution_count": null,
      "outputs": [
        {
          "output_type": "error",
          "ename": "SyntaxError",
          "evalue": "ignored",
          "traceback": [
            "\u001b[0;36m  File \u001b[0;32m\"<ipython-input-4-36c9ee2cd10b>\"\u001b[0;36m, line \u001b[0;32m1\u001b[0m\n\u001b[0;31m    dt_model = tree.DecisionTreeClassifier( criterion=\"entropy\", max_depth=1, ) plt.figure() dt_model.fit(X=cancer[[\"texture_mean\"]], y=cancer[\"label\"]) _ = tree.plot_tree(dt_model, feature_names=[\"texture_mean\"], filled=True) plt.show()\u001b[0m\n\u001b[0m                                                                                  ^\u001b[0m\n\u001b[0;31mSyntaxError\u001b[0m\u001b[0;31m:\u001b[0m invalid syntax\n"
          ]
        }
      ]
    },
    {
      "cell_type": "code",
      "source": [
        "#dt_model.fit(X=one_hot_encoded_data[features], y=one_hot_encoded_data[label])\n",
        "dt_model.fit(X, Y)\n",
        "\n"
      ],
      "metadata": {
        "colab": {
          "base_uri": "https://localhost:8080/"
        },
        "id": "BYhwDELQvj9s",
        "outputId": "ea926525-eef2-40a7-93d5-90b4ccaf914a"
      },
      "execution_count": null,
      "outputs": [
        {
          "output_type": "execute_result",
          "data": {
            "text/plain": [
              "DecisionTreeClassifier(max_depth=3)"
            ]
          },
          "metadata": {},
          "execution_count": 65
        }
      ]
    },
    {
      "cell_type": "code",
      "source": [
        "import graphviz\n",
        "\n",
        "dot_data = tree.export_graphviz(\n",
        "    decision_tree=dt_model,\n",
        "    out_file=None,\n",
        "    feature_names=features,\n",
        "    class_names=[\"0\", \"1\"],\n",
        "    filled=True,\n",
        "    rounded=True,\n",
        "    special_characters=True,\n",
        "    max_depth=3,\n",
        ")\n",
        "graph = graphviz.Source(dot_data)\n",
        "graph.render(\"salary_tree\")\n",
        "graph"
      ],
      "metadata": {
        "colab": {
          "base_uri": "https://localhost:8080/",
          "height": 618
        },
        "id": "Ea3UHb3YwPMV",
        "outputId": "a54b6269-0cd1-44ba-ae0f-1f6b20c0c117"
      },
      "execution_count": null,
      "outputs": [
        {
          "output_type": "execute_result",
          "data": {
            "text/plain": [
              "<graphviz.files.Source at 0x7f2ed92575d0>"
            ],
            "image/svg+xml": "<?xml version=\"1.0\" encoding=\"UTF-8\" standalone=\"no\"?>\n<!DOCTYPE svg PUBLIC \"-//W3C//DTD SVG 1.1//EN\"\n \"http://www.w3.org/Graphics/SVG/1.1/DTD/svg11.dtd\">\n<!-- Generated by graphviz version 2.40.1 (20161225.0304)\n -->\n<!-- Title: Tree Pages: 1 -->\n<svg width=\"1178pt\" height=\"433pt\"\n viewBox=\"0.00 0.00 1177.50 433.00\" xmlns=\"http://www.w3.org/2000/svg\" xmlns:xlink=\"http://www.w3.org/1999/xlink\">\n<g id=\"graph0\" class=\"graph\" transform=\"scale(1 1) rotate(0) translate(4 429)\">\n<title>Tree</title>\n<polygon fill=\"#ffffff\" stroke=\"transparent\" points=\"-4,4 -4,-429 1173.5,-429 1173.5,4 -4,4\"/>\n<!-- 0 -->\n<g id=\"node1\" class=\"node\">\n<title>0</title>\n<path fill=\"#eeab7b\" stroke=\"#000000\" d=\"M690.5,-425C690.5,-425 436.5,-425 436.5,-425 430.5,-425 424.5,-419 424.5,-413 424.5,-413 424.5,-354 424.5,-354 424.5,-348 430.5,-342 436.5,-342 436.5,-342 690.5,-342 690.5,-342 696.5,-342 702.5,-348 702.5,-354 702.5,-354 702.5,-413 702.5,-413 702.5,-419 696.5,-425 690.5,-425\"/>\n<text text-anchor=\"start\" x=\"432.5\" y=\"-409.8\" font-family=\"Helvetica,sans-Serif\" font-size=\"14.00\" fill=\"#000000\">marital_status_ Married&#45;civ&#45;spouse ≤ 0.5</text>\n<text text-anchor=\"start\" x=\"525.5\" y=\"-394.8\" font-family=\"Helvetica,sans-Serif\" font-size=\"14.00\" fill=\"#000000\">gini = 0.374</text>\n<text text-anchor=\"start\" x=\"507.5\" y=\"-379.8\" font-family=\"Helvetica,sans-Serif\" font-size=\"14.00\" fill=\"#000000\">samples = 30162</text>\n<text text-anchor=\"start\" x=\"493\" y=\"-364.8\" font-family=\"Helvetica,sans-Serif\" font-size=\"14.00\" fill=\"#000000\">value = [22654, 7508]</text>\n<text text-anchor=\"start\" x=\"534.5\" y=\"-349.8\" font-family=\"Helvetica,sans-Serif\" font-size=\"14.00\" fill=\"#000000\">class = 0</text>\n</g>\n<!-- 1 -->\n<g id=\"node2\" class=\"node\">\n<title>1</title>\n<path fill=\"#e78a48\" stroke=\"#000000\" d=\"M501,-306C501,-306 368,-306 368,-306 362,-306 356,-300 356,-294 356,-294 356,-235 356,-235 356,-229 362,-223 368,-223 368,-223 501,-223 501,-223 507,-223 513,-229 513,-235 513,-235 513,-294 513,-294 513,-300 507,-306 501,-306\"/>\n<text text-anchor=\"start\" x=\"365\" y=\"-290.8\" font-family=\"Helvetica,sans-Serif\" font-size=\"14.00\" fill=\"#000000\">capital_gain ≤ 7073.5</text>\n<text text-anchor=\"start\" x=\"396.5\" y=\"-275.8\" font-family=\"Helvetica,sans-Serif\" font-size=\"14.00\" fill=\"#000000\">gini = 0.128</text>\n<text text-anchor=\"start\" x=\"378.5\" y=\"-260.8\" font-family=\"Helvetica,sans-Serif\" font-size=\"14.00\" fill=\"#000000\">samples = 16097</text>\n<text text-anchor=\"start\" x=\"364\" y=\"-245.8\" font-family=\"Helvetica,sans-Serif\" font-size=\"14.00\" fill=\"#000000\">value = [14988, 1109]</text>\n<text text-anchor=\"start\" x=\"405.5\" y=\"-230.8\" font-family=\"Helvetica,sans-Serif\" font-size=\"14.00\" fill=\"#000000\">class = 0</text>\n</g>\n<!-- 0&#45;&gt;1 -->\n<g id=\"edge1\" class=\"edge\">\n<title>0&#45;&gt;1</title>\n<path fill=\"none\" stroke=\"#000000\" d=\"M518.3821,-341.8796C508.326,-332.6031 497.577,-322.6874 487.2446,-313.1559\"/>\n<polygon fill=\"#000000\" stroke=\"#000000\" points=\"489.5339,-310.506 479.8105,-306.2981 484.7876,-315.6511 489.5339,-310.506\"/>\n<text text-anchor=\"middle\" x=\"480.8178\" y=\"-327.5778\" font-family=\"Helvetica,sans-Serif\" font-size=\"14.00\" fill=\"#000000\">True</text>\n</g>\n<!-- 8 -->\n<g id=\"node9\" class=\"node\">\n<title>8</title>\n<path fill=\"#fbeade\" stroke=\"#000000\" d=\"M789,-306C789,-306 652,-306 652,-306 646,-306 640,-300 640,-294 640,-294 640,-235 640,-235 640,-229 646,-223 652,-223 652,-223 789,-223 789,-223 795,-223 801,-229 801,-235 801,-235 801,-294 801,-294 801,-300 795,-306 789,-306\"/>\n<text text-anchor=\"start\" x=\"648\" y=\"-290.8\" font-family=\"Helvetica,sans-Serif\" font-size=\"14.00\" fill=\"#000000\">education_num ≤ 12.5</text>\n<text text-anchor=\"start\" x=\"682.5\" y=\"-275.8\" font-family=\"Helvetica,sans-Serif\" font-size=\"14.00\" fill=\"#000000\">gini = 0.496</text>\n<text text-anchor=\"start\" x=\"664.5\" y=\"-260.8\" font-family=\"Helvetica,sans-Serif\" font-size=\"14.00\" fill=\"#000000\">samples = 14065</text>\n<text text-anchor=\"start\" x=\"654\" y=\"-245.8\" font-family=\"Helvetica,sans-Serif\" font-size=\"14.00\" fill=\"#000000\">value = [7666, 6399]</text>\n<text text-anchor=\"start\" x=\"691.5\" y=\"-230.8\" font-family=\"Helvetica,sans-Serif\" font-size=\"14.00\" fill=\"#000000\">class = 0</text>\n</g>\n<!-- 0&#45;&gt;8 -->\n<g id=\"edge8\" class=\"edge\">\n<title>0&#45;&gt;8</title>\n<path fill=\"none\" stroke=\"#000000\" d=\"M618.411,-341.8796C631.0794,-332.2774 644.6515,-321.9903 657.6295,-312.1534\"/>\n<polygon fill=\"#000000\" stroke=\"#000000\" points=\"659.7648,-314.9268 665.62,-306.0969 655.5364,-309.3482 659.7648,-314.9268\"/>\n<text text-anchor=\"middle\" x=\"662.2102\" y=\"-327.1633\" font-family=\"Helvetica,sans-Serif\" font-size=\"14.00\" fill=\"#000000\">False</text>\n</g>\n<!-- 2 -->\n<g id=\"node3\" class=\"node\">\n<title>2</title>\n<path fill=\"#e68844\" stroke=\"#000000\" d=\"M306,-187C306,-187 169,-187 169,-187 163,-187 157,-181 157,-175 157,-175 157,-116 157,-116 157,-110 163,-104 169,-104 169,-104 306,-104 306,-104 312,-104 318,-110 318,-116 318,-116 318,-175 318,-175 318,-181 312,-187 306,-187\"/>\n<text text-anchor=\"start\" x=\"165\" y=\"-171.8\" font-family=\"Helvetica,sans-Serif\" font-size=\"14.00\" fill=\"#000000\">education_num ≤ 12.5</text>\n<text text-anchor=\"start\" x=\"199.5\" y=\"-156.8\" font-family=\"Helvetica,sans-Serif\" font-size=\"14.00\" fill=\"#000000\">gini = 0.099</text>\n<text text-anchor=\"start\" x=\"181.5\" y=\"-141.8\" font-family=\"Helvetica,sans-Serif\" font-size=\"14.00\" fill=\"#000000\">samples = 15802</text>\n<text text-anchor=\"start\" x=\"171\" y=\"-126.8\" font-family=\"Helvetica,sans-Serif\" font-size=\"14.00\" fill=\"#000000\">value = [14979, 823]</text>\n<text text-anchor=\"start\" x=\"208.5\" y=\"-111.8\" font-family=\"Helvetica,sans-Serif\" font-size=\"14.00\" fill=\"#000000\">class = 0</text>\n</g>\n<!-- 1&#45;&gt;2 -->\n<g id=\"edge2\" class=\"edge\">\n<title>1&#45;&gt;2</title>\n<path fill=\"none\" stroke=\"#000000\" d=\"M365.599,-222.8796C349.253,-213.0056 331.7081,-202.4075 315.0076,-192.3193\"/>\n<polygon fill=\"#000000\" stroke=\"#000000\" points=\"316.7314,-189.2716 306.3621,-187.0969 313.112,-195.2633 316.7314,-189.2716\"/>\n</g>\n<!-- 5 -->\n<g id=\"node6\" class=\"node\">\n<title>5</title>\n<path fill=\"#3fa0e6\" stroke=\"#000000\" d=\"M480.5,-187C480.5,-187 388.5,-187 388.5,-187 382.5,-187 376.5,-181 376.5,-175 376.5,-175 376.5,-116 376.5,-116 376.5,-110 382.5,-104 388.5,-104 388.5,-104 480.5,-104 480.5,-104 486.5,-104 492.5,-110 492.5,-116 492.5,-116 492.5,-175 492.5,-175 492.5,-181 486.5,-187 480.5,-187\"/>\n<text text-anchor=\"start\" x=\"400\" y=\"-171.8\" font-family=\"Helvetica,sans-Serif\" font-size=\"14.00\" fill=\"#000000\">age ≤ 20.0</text>\n<text text-anchor=\"start\" x=\"396.5\" y=\"-156.8\" font-family=\"Helvetica,sans-Serif\" font-size=\"14.00\" fill=\"#000000\">gini = 0.059</text>\n<text text-anchor=\"start\" x=\"386.5\" y=\"-141.8\" font-family=\"Helvetica,sans-Serif\" font-size=\"14.00\" fill=\"#000000\">samples = 295</text>\n<text text-anchor=\"start\" x=\"384.5\" y=\"-126.8\" font-family=\"Helvetica,sans-Serif\" font-size=\"14.00\" fill=\"#000000\">value = [9, 286]</text>\n<text text-anchor=\"start\" x=\"405.5\" y=\"-111.8\" font-family=\"Helvetica,sans-Serif\" font-size=\"14.00\" fill=\"#000000\">class = 1</text>\n</g>\n<!-- 1&#45;&gt;5 -->\n<g id=\"edge5\" class=\"edge\">\n<title>1&#45;&gt;5</title>\n<path fill=\"none\" stroke=\"#000000\" d=\"M434.5,-222.8796C434.5,-214.6838 434.5,-205.9891 434.5,-197.5013\"/>\n<polygon fill=\"#000000\" stroke=\"#000000\" points=\"438.0001,-197.298 434.5,-187.2981 431.0001,-197.2981 438.0001,-197.298\"/>\n</g>\n<!-- 3 -->\n<g id=\"node4\" class=\"node\">\n<title>3</title>\n<path fill=\"#e6843e\" stroke=\"#000000\" d=\"M137,-68C137,-68 12,-68 12,-68 6,-68 0,-62 0,-56 0,-56 0,-12 0,-12 0,-6 6,0 12,0 12,0 137,0 137,0 143,0 149,-6 149,-12 149,-12 149,-56 149,-56 149,-62 143,-68 137,-68\"/>\n<text text-anchor=\"start\" x=\"36.5\" y=\"-52.8\" font-family=\"Helvetica,sans-Serif\" font-size=\"14.00\" fill=\"#000000\">gini = 0.051</text>\n<text text-anchor=\"start\" x=\"18.5\" y=\"-37.8\" font-family=\"Helvetica,sans-Serif\" font-size=\"14.00\" fill=\"#000000\">samples = 12579</text>\n<text text-anchor=\"start\" x=\"8\" y=\"-22.8\" font-family=\"Helvetica,sans-Serif\" font-size=\"14.00\" fill=\"#000000\">value = [12249, 330]</text>\n<text text-anchor=\"start\" x=\"45.5\" y=\"-7.8\" font-family=\"Helvetica,sans-Serif\" font-size=\"14.00\" fill=\"#000000\">class = 0</text>\n</g>\n<!-- 2&#45;&gt;3 -->\n<g id=\"edge3\" class=\"edge\">\n<title>2&#45;&gt;3</title>\n<path fill=\"none\" stroke=\"#000000\" d=\"M176.8048,-103.9815C162.353,-94.0957 146.9658,-83.5701 132.632,-73.7651\"/>\n<polygon fill=\"#000000\" stroke=\"#000000\" points=\"134.559,-70.8428 124.3292,-68.0856 130.6068,-76.6204 134.559,-70.8428\"/>\n</g>\n<!-- 4 -->\n<g id=\"node5\" class=\"node\">\n<title>4</title>\n<path fill=\"#ea985d\" stroke=\"#000000\" d=\"M295.5,-68C295.5,-68 179.5,-68 179.5,-68 173.5,-68 167.5,-62 167.5,-56 167.5,-56 167.5,-12 167.5,-12 167.5,-6 173.5,0 179.5,0 179.5,0 295.5,0 295.5,0 301.5,0 307.5,-6 307.5,-12 307.5,-12 307.5,-56 307.5,-56 307.5,-62 301.5,-68 295.5,-68\"/>\n<text text-anchor=\"start\" x=\"199.5\" y=\"-52.8\" font-family=\"Helvetica,sans-Serif\" font-size=\"14.00\" fill=\"#000000\">gini = 0.259</text>\n<text text-anchor=\"start\" x=\"185.5\" y=\"-37.8\" font-family=\"Helvetica,sans-Serif\" font-size=\"14.00\" fill=\"#000000\">samples = 3223</text>\n<text text-anchor=\"start\" x=\"175.5\" y=\"-22.8\" font-family=\"Helvetica,sans-Serif\" font-size=\"14.00\" fill=\"#000000\">value = [2730, 493]</text>\n<text text-anchor=\"start\" x=\"208.5\" y=\"-7.8\" font-family=\"Helvetica,sans-Serif\" font-size=\"14.00\" fill=\"#000000\">class = 0</text>\n</g>\n<!-- 2&#45;&gt;4 -->\n<g id=\"edge4\" class=\"edge\">\n<title>2&#45;&gt;4</title>\n<path fill=\"none\" stroke=\"#000000\" d=\"M237.5,-103.9815C237.5,-95.618 237.5,-86.7965 237.5,-78.3409\"/>\n<polygon fill=\"#000000\" stroke=\"#000000\" points=\"241.0001,-78.2636 237.5,-68.2637 234.0001,-78.2637 241.0001,-78.2636\"/>\n</g>\n<!-- 6 -->\n<g id=\"node7\" class=\"node\">\n<title>6</title>\n<path fill=\"#e58139\" stroke=\"#000000\" d=\"M413,-68C413,-68 338,-68 338,-68 332,-68 326,-62 326,-56 326,-56 326,-12 326,-12 326,-6 332,0 338,0 338,0 413,0 413,0 419,0 425,-6 425,-12 425,-12 425,-56 425,-56 425,-62 419,-68 413,-68\"/>\n<text text-anchor=\"start\" x=\"346\" y=\"-52.8\" font-family=\"Helvetica,sans-Serif\" font-size=\"14.00\" fill=\"#000000\">gini = 0.0</text>\n<text text-anchor=\"start\" x=\"336\" y=\"-37.8\" font-family=\"Helvetica,sans-Serif\" font-size=\"14.00\" fill=\"#000000\">samples = 2</text>\n<text text-anchor=\"start\" x=\"334\" y=\"-22.8\" font-family=\"Helvetica,sans-Serif\" font-size=\"14.00\" fill=\"#000000\">value = [2, 0]</text>\n<text text-anchor=\"start\" x=\"346.5\" y=\"-7.8\" font-family=\"Helvetica,sans-Serif\" font-size=\"14.00\" fill=\"#000000\">class = 0</text>\n</g>\n<!-- 5&#45;&gt;6 -->\n<g id=\"edge6\" class=\"edge\">\n<title>5&#45;&gt;6</title>\n<path fill=\"none\" stroke=\"#000000\" d=\"M412.5306,-103.9815C407.9105,-95.2504 403.0264,-86.0202 398.374,-77.2281\"/>\n<polygon fill=\"#000000\" stroke=\"#000000\" points=\"401.4013,-75.4655 393.6306,-68.2637 395.2141,-78.7395 401.4013,-75.4655\"/>\n</g>\n<!-- 7 -->\n<g id=\"node8\" class=\"node\">\n<title>7</title>\n<path fill=\"#3e9fe6\" stroke=\"#000000\" d=\"M547.5,-68C547.5,-68 455.5,-68 455.5,-68 449.5,-68 443.5,-62 443.5,-56 443.5,-56 443.5,-12 443.5,-12 443.5,-6 449.5,0 455.5,0 455.5,0 547.5,0 547.5,0 553.5,0 559.5,-6 559.5,-12 559.5,-12 559.5,-56 559.5,-56 559.5,-62 553.5,-68 547.5,-68\"/>\n<text text-anchor=\"start\" x=\"463.5\" y=\"-52.8\" font-family=\"Helvetica,sans-Serif\" font-size=\"14.00\" fill=\"#000000\">gini = 0.047</text>\n<text text-anchor=\"start\" x=\"453.5\" y=\"-37.8\" font-family=\"Helvetica,sans-Serif\" font-size=\"14.00\" fill=\"#000000\">samples = 293</text>\n<text text-anchor=\"start\" x=\"451.5\" y=\"-22.8\" font-family=\"Helvetica,sans-Serif\" font-size=\"14.00\" fill=\"#000000\">value = [7, 286]</text>\n<text text-anchor=\"start\" x=\"472.5\" y=\"-7.8\" font-family=\"Helvetica,sans-Serif\" font-size=\"14.00\" fill=\"#000000\">class = 1</text>\n</g>\n<!-- 5&#45;&gt;7 -->\n<g id=\"edge7\" class=\"edge\">\n<title>5&#45;&gt;7</title>\n<path fill=\"none\" stroke=\"#000000\" d=\"M459.4483,-103.9815C464.7501,-95.1585 470.3581,-85.8258 475.6911,-76.9506\"/>\n<polygon fill=\"#000000\" stroke=\"#000000\" points=\"478.7605,-78.638 480.9111,-68.2637 472.7604,-75.0325 478.7605,-78.638\"/>\n</g>\n<!-- 9 -->\n<g id=\"node10\" class=\"node\">\n<title>9</title>\n<path fill=\"#f2c19e\" stroke=\"#000000\" d=\"M786,-187C786,-187 655,-187 655,-187 649,-187 643,-181 643,-175 643,-175 643,-116 643,-116 643,-110 649,-104 655,-104 655,-104 786,-104 786,-104 792,-104 798,-110 798,-116 798,-116 798,-175 798,-175 798,-181 792,-187 786,-187\"/>\n<text text-anchor=\"start\" x=\"651\" y=\"-171.8\" font-family=\"Helvetica,sans-Serif\" font-size=\"14.00\" fill=\"#000000\">capital_gain ≤ 5095.5</text>\n<text text-anchor=\"start\" x=\"682.5\" y=\"-156.8\" font-family=\"Helvetica,sans-Serif\" font-size=\"14.00\" fill=\"#000000\">gini = 0.448</text>\n<text text-anchor=\"start\" x=\"668.5\" y=\"-141.8\" font-family=\"Helvetica,sans-Serif\" font-size=\"14.00\" fill=\"#000000\">samples = 9880</text>\n<text text-anchor=\"start\" x=\"654\" y=\"-126.8\" font-family=\"Helvetica,sans-Serif\" font-size=\"14.00\" fill=\"#000000\">value = [6538, 3342]</text>\n<text text-anchor=\"start\" x=\"691.5\" y=\"-111.8\" font-family=\"Helvetica,sans-Serif\" font-size=\"14.00\" fill=\"#000000\">class = 0</text>\n</g>\n<!-- 8&#45;&gt;9 -->\n<g id=\"edge9\" class=\"edge\">\n<title>8&#45;&gt;9</title>\n<path fill=\"none\" stroke=\"#000000\" d=\"M720.5,-222.8796C720.5,-214.6838 720.5,-205.9891 720.5,-197.5013\"/>\n<polygon fill=\"#000000\" stroke=\"#000000\" points=\"724.0001,-197.298 720.5,-187.2981 717.0001,-197.2981 724.0001,-197.298\"/>\n</g>\n<!-- 12 -->\n<g id=\"node13\" class=\"node\">\n<title>12</title>\n<path fill=\"#82c1ef\" stroke=\"#000000\" d=\"M1027,-187C1027,-187 896,-187 896,-187 890,-187 884,-181 884,-175 884,-175 884,-116 884,-116 884,-110 890,-104 896,-104 896,-104 1027,-104 1027,-104 1033,-104 1039,-110 1039,-116 1039,-116 1039,-175 1039,-175 1039,-181 1033,-187 1027,-187\"/>\n<text text-anchor=\"start\" x=\"892\" y=\"-171.8\" font-family=\"Helvetica,sans-Serif\" font-size=\"14.00\" fill=\"#000000\">capital_gain ≤ 5095.5</text>\n<text text-anchor=\"start\" x=\"923.5\" y=\"-156.8\" font-family=\"Helvetica,sans-Serif\" font-size=\"14.00\" fill=\"#000000\">gini = 0.394</text>\n<text text-anchor=\"start\" x=\"909.5\" y=\"-141.8\" font-family=\"Helvetica,sans-Serif\" font-size=\"14.00\" fill=\"#000000\">samples = 4185</text>\n<text text-anchor=\"start\" x=\"895\" y=\"-126.8\" font-family=\"Helvetica,sans-Serif\" font-size=\"14.00\" fill=\"#000000\">value = [1128, 3057]</text>\n<text text-anchor=\"start\" x=\"932.5\" y=\"-111.8\" font-family=\"Helvetica,sans-Serif\" font-size=\"14.00\" fill=\"#000000\">class = 1</text>\n</g>\n<!-- 8&#45;&gt;12 -->\n<g id=\"edge12\" class=\"edge\">\n<title>8&#45;&gt;12</title>\n<path fill=\"none\" stroke=\"#000000\" d=\"M801.0846,-224.7093C824.745,-213.0263 850.7201,-200.2004 874.748,-188.3361\"/>\n<polygon fill=\"#000000\" stroke=\"#000000\" points=\"876.4358,-191.4062 883.8527,-183.8404 873.3365,-185.1296 876.4358,-191.4062\"/>\n</g>\n<!-- 10 -->\n<g id=\"node11\" class=\"node\">\n<title>10</title>\n<path fill=\"#f0b88f\" stroke=\"#000000\" d=\"M715,-68C715,-68 590,-68 590,-68 584,-68 578,-62 578,-56 578,-56 578,-12 578,-12 578,-6 584,0 590,0 590,0 715,0 715,0 721,0 727,-6 727,-12 727,-12 727,-56 727,-56 727,-62 721,-68 715,-68\"/>\n<text text-anchor=\"start\" x=\"614.5\" y=\"-52.8\" font-family=\"Helvetica,sans-Serif\" font-size=\"14.00\" fill=\"#000000\">gini = 0.423</text>\n<text text-anchor=\"start\" x=\"600.5\" y=\"-37.8\" font-family=\"Helvetica,sans-Serif\" font-size=\"14.00\" fill=\"#000000\">samples = 9376</text>\n<text text-anchor=\"start\" x=\"586\" y=\"-22.8\" font-family=\"Helvetica,sans-Serif\" font-size=\"14.00\" fill=\"#000000\">value = [6528, 2848]</text>\n<text text-anchor=\"start\" x=\"623.5\" y=\"-7.8\" font-family=\"Helvetica,sans-Serif\" font-size=\"14.00\" fill=\"#000000\">class = 0</text>\n</g>\n<!-- 9&#45;&gt;10 -->\n<g id=\"edge10\" class=\"edge\">\n<title>9&#45;&gt;10</title>\n<path fill=\"none\" stroke=\"#000000\" d=\"M695.1793,-103.9815C689.7984,-95.1585 684.1068,-85.8258 678.6941,-76.9506\"/>\n<polygon fill=\"#000000\" stroke=\"#000000\" points=\"681.5912,-74.9789 673.3962,-68.2637 675.6149,-78.6236 681.5912,-74.9789\"/>\n</g>\n<!-- 11 -->\n<g id=\"node12\" class=\"node\">\n<title>11</title>\n<path fill=\"#3d9fe6\" stroke=\"#000000\" d=\"M856.5,-68C856.5,-68 756.5,-68 756.5,-68 750.5,-68 744.5,-62 744.5,-56 744.5,-56 744.5,-12 744.5,-12 744.5,-6 750.5,0 756.5,0 756.5,0 856.5,0 856.5,0 862.5,0 868.5,-6 868.5,-12 868.5,-12 868.5,-56 868.5,-56 868.5,-62 862.5,-68 856.5,-68\"/>\n<text text-anchor=\"start\" x=\"768.5\" y=\"-52.8\" font-family=\"Helvetica,sans-Serif\" font-size=\"14.00\" fill=\"#000000\">gini = 0.039</text>\n<text text-anchor=\"start\" x=\"758.5\" y=\"-37.8\" font-family=\"Helvetica,sans-Serif\" font-size=\"14.00\" fill=\"#000000\">samples = 504</text>\n<text text-anchor=\"start\" x=\"752.5\" y=\"-22.8\" font-family=\"Helvetica,sans-Serif\" font-size=\"14.00\" fill=\"#000000\">value = [10, 494]</text>\n<text text-anchor=\"start\" x=\"777.5\" y=\"-7.8\" font-family=\"Helvetica,sans-Serif\" font-size=\"14.00\" fill=\"#000000\">class = 1</text>\n</g>\n<!-- 9&#45;&gt;11 -->\n<g id=\"edge11\" class=\"edge\">\n<title>9&#45;&gt;11</title>\n<path fill=\"none\" stroke=\"#000000\" d=\"M752.5232,-103.9815C759.4702,-94.9747 766.8269,-85.4367 773.7996,-76.3965\"/>\n<polygon fill=\"#000000\" stroke=\"#000000\" points=\"776.7364,-78.3196 780.0724,-68.2637 771.1936,-74.0444 776.7364,-78.3196\"/>\n</g>\n<!-- 13 -->\n<g id=\"node14\" class=\"node\">\n<title>13</title>\n<path fill=\"#95cbf1\" stroke=\"#000000\" d=\"M1024,-68C1024,-68 899,-68 899,-68 893,-68 887,-62 887,-56 887,-56 887,-12 887,-12 887,-6 893,0 899,0 899,0 1024,0 1024,0 1030,0 1036,-6 1036,-12 1036,-12 1036,-56 1036,-56 1036,-62 1030,-68 1024,-68\"/>\n<text text-anchor=\"start\" x=\"923.5\" y=\"-52.8\" font-family=\"Helvetica,sans-Serif\" font-size=\"14.00\" fill=\"#000000\">gini = 0.433</text>\n<text text-anchor=\"start\" x=\"909.5\" y=\"-37.8\" font-family=\"Helvetica,sans-Serif\" font-size=\"14.00\" fill=\"#000000\">samples = 3545</text>\n<text text-anchor=\"start\" x=\"895\" y=\"-22.8\" font-family=\"Helvetica,sans-Serif\" font-size=\"14.00\" fill=\"#000000\">value = [1126, 2419]</text>\n<text text-anchor=\"start\" x=\"932.5\" y=\"-7.8\" font-family=\"Helvetica,sans-Serif\" font-size=\"14.00\" fill=\"#000000\">class = 1</text>\n</g>\n<!-- 12&#45;&gt;13 -->\n<g id=\"edge13\" class=\"edge\">\n<title>12&#45;&gt;13</title>\n<path fill=\"none\" stroke=\"#000000\" d=\"M961.5,-103.9815C961.5,-95.618 961.5,-86.7965 961.5,-78.3409\"/>\n<polygon fill=\"#000000\" stroke=\"#000000\" points=\"965.0001,-78.2636 961.5,-68.2637 958.0001,-78.2637 965.0001,-78.2636\"/>\n</g>\n<!-- 14 -->\n<g id=\"node15\" class=\"node\">\n<title>14</title>\n<path fill=\"#3a9de5\" stroke=\"#000000\" d=\"M1157.5,-68C1157.5,-68 1065.5,-68 1065.5,-68 1059.5,-68 1053.5,-62 1053.5,-56 1053.5,-56 1053.5,-12 1053.5,-12 1053.5,-6 1059.5,0 1065.5,0 1065.5,0 1157.5,0 1157.5,0 1163.5,0 1169.5,-6 1169.5,-12 1169.5,-12 1169.5,-56 1169.5,-56 1169.5,-62 1163.5,-68 1157.5,-68\"/>\n<text text-anchor=\"start\" x=\"1073.5\" y=\"-52.8\" font-family=\"Helvetica,sans-Serif\" font-size=\"14.00\" fill=\"#000000\">gini = 0.006</text>\n<text text-anchor=\"start\" x=\"1063.5\" y=\"-37.8\" font-family=\"Helvetica,sans-Serif\" font-size=\"14.00\" fill=\"#000000\">samples = 640</text>\n<text text-anchor=\"start\" x=\"1061.5\" y=\"-22.8\" font-family=\"Helvetica,sans-Serif\" font-size=\"14.00\" fill=\"#000000\">value = [2, 638]</text>\n<text text-anchor=\"start\" x=\"1082.5\" y=\"-7.8\" font-family=\"Helvetica,sans-Serif\" font-size=\"14.00\" fill=\"#000000\">class = 1</text>\n</g>\n<!-- 12&#45;&gt;14 -->\n<g id=\"edge14\" class=\"edge\">\n<title>12&#45;&gt;14</title>\n<path fill=\"none\" stroke=\"#000000\" d=\"M1017.3545,-103.9815C1030.3368,-94.3313 1044.1394,-84.0714 1057.0597,-74.4673\"/>\n<polygon fill=\"#000000\" stroke=\"#000000\" points=\"1059.4678,-77.0384 1065.4054,-68.2637 1055.2917,-71.4204 1059.4678,-77.0384\"/>\n</g>\n</g>\n</svg>\n"
          },
          "metadata": {},
          "execution_count": 66
        }
      ]
    },
    {
      "cell_type": "code",
      "source": [
        "y_train_pred = dt_model.predict(X)\n",
        "y_test_pred = dt_model.predict(X_test)\n",
        "\n",
        "trainaccuracy= accuracy_score(Y, y_train_pred)\n",
        "testaccuracy= accuracy_score(Y_test, y_test_pred)\n",
        "\n",
        "confusion_TRN = confusion_matrix(Y, y_train_pred)\n",
        "confusion_TST = confusion_matrix(Y_test, y_test_pred)"
      ],
      "metadata": {
        "id": "rQvQilFl6IOJ"
      },
      "execution_count": null,
      "outputs": []
    },
    {
      "cell_type": "code",
      "source": [
        "TP = confusion_TRN[1,1] # true positive\n",
        "TN = confusion_TRN[0,0] # true negatives\n",
        "FP = confusion_TRN[0,1] # false positives\n",
        "FN = confusion_TRN[1,0] # false negatives\n",
        "\n",
        "TP_TST = confusion_TST[1,1] # true positive\n",
        "TN_TST = confusion_TST[0,0] # true negatives\n",
        "FP_TST = confusion_TST[0,1] # false positives\n",
        "FN_TST = confusion_TST[1,0] # false negatives\n",
        "\n",
        "trainsensitivity= TP / float(TP+FN)\n",
        "trainspecificity= TN / float(TN+FP)\n",
        "\n",
        "testsensitivity= TP_TST / float(TP_TST+FN_TST)\n",
        "testspecificity= TN_TST / float(TN_TST+FP_TST)\n",
        "\n",
        "# Let us compare the values obtained for Train & Test:\n",
        "print('-'*30)\n",
        "print('On Train Data')\n",
        "print('-'*30)\n",
        "print(\"Accuracy    : {} %\".format(round((trainaccuracy*100),2)))\n",
        "print(\"Sensitivity : {} %\".format(round((trainsensitivity*100),2)))\n",
        "print(\"Specificity : {} %\".format(round((trainspecificity*100),2)))\n",
        "print('-'*30)\n",
        "print('On Test Data')\n",
        "print('-'*30)\n",
        "print(\"Accuracy    : {} %\".format(round((testaccuracy*100),2)))\n",
        "print(\"Sensitivity : {} %\".format(round((testsensitivity*100),2)))\n",
        "print(\"Specificity : {} %\".format(round((testspecificity*100),2)))\n",
        "print('-'*30)"
      ],
      "metadata": {
        "colab": {
          "base_uri": "https://localhost:8080/"
        },
        "id": "PVPiVpW_6rna",
        "outputId": "59f7c406-53dc-4272-e10f-1c56e8f349a1"
      },
      "execution_count": null,
      "outputs": [
        {
          "output_type": "stream",
          "name": "stdout",
          "text": [
            "------------------------------\n",
            "On Train Data\n",
            "------------------------------\n",
            "Accuracy    : 84.03 %\n",
            "Sensitivity : 51.11 %\n",
            "Specificity : 94.95 %\n",
            "------------------------------\n",
            "On Test Data\n",
            "------------------------------\n",
            "Accuracy    : 83.92 %\n",
            "Sensitivity : 50.49 %\n",
            "Specificity : 94.82 %\n",
            "------------------------------\n"
          ]
        }
      ]
    },
    {
      "cell_type": "code",
      "source": [
        "from sklearn.metrics import balanced_accuracy_score\n",
        "print(TP_TST)\n",
        "print(TN_TST)\n",
        "print(FN_TST)\n",
        "print(FP_TST)\n",
        "\n",
        "balanced_accuracy_score(Y_test, y_test_pred)"
      ],
      "metadata": {
        "colab": {
          "base_uri": "https://localhost:8080/"
        },
        "id": "DonV0qjR7Kxq",
        "outputId": "aa1dbcdb-937d-417e-c2ad-3a07043a3a67"
      },
      "execution_count": null,
      "outputs": [
        {
          "output_type": "stream",
          "name": "stdout",
          "text": [
            "1868\n",
            "10771\n",
            "1832\n",
            "589\n"
          ]
        },
        {
          "output_type": "execute_result",
          "data": {
            "text/plain": [
              "0.7265081366577846"
            ]
          },
          "metadata": {},
          "execution_count": 69
        }
      ]
    }
  ]
}