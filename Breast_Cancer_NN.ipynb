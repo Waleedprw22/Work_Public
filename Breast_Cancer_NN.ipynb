{
  "nbformat": 4,
  "nbformat_minor": 0,
  "metadata": {
    "colab": {
      "provenance": [],
      "authorship_tag": "ABX9TyNVkXRZAD5nTVAUNdWSvKU3",
      "include_colab_link": true
    },
    "kernelspec": {
      "name": "python3",
      "display_name": "Python 3"
    },
    "language_info": {
      "name": "python"
    }
  },
  "cells": [
    {
      "cell_type": "markdown",
      "metadata": {
        "id": "view-in-github",
        "colab_type": "text"
      },
      "source": [
        "<a href=\"https://colab.research.google.com/github/Waleedprw22/Work_Public/blob/main/Breast_Cancer_NN.ipynb\" target=\"_parent\"><img src=\"https://colab.research.google.com/assets/colab-badge.svg\" alt=\"Open In Colab\"/></a>"
      ]
    },
    {
      "cell_type": "code",
      "execution_count": null,
      "metadata": {
        "id": "5dz1yL5NS8qW"
      },
      "outputs": [],
      "source": [
        "from typing import Tuple\n",
        "\n",
        "import numpy as np\n",
        "import pandas as pd\n",
        "\n",
        "from sklearn.metrics import roc_auc_score\n",
        "from sklearn.model_selection import train_test_split\n",
        "from sklearn.preprocessing import StandardScaler"
      ]
    },
    {
      "cell_type": "code",
      "source": [
        "data = pd.read_csv(\"https://raw.githubusercontent.com/changyaochen/MECE4520/master/data/breast_cancer.csv\")\n",
        "data[\"label\"] = data[\"diagnosis\"].apply(lambda x: 0 if x == \"B\" else 1)\n",
        "data.head()"
      ],
      "metadata": {
        "colab": {
          "base_uri": "https://localhost:8080/",
          "height": 299
        },
        "id": "ooIApqd0UL12",
        "outputId": "8738a3a6-627f-4442-b175-7cc90a6fdca0"
      },
      "execution_count": null,
      "outputs": [
        {
          "output_type": "execute_result",
          "data": {
            "text/plain": [
              "         id diagnosis  radius_mean  texture_mean  perimeter_mean  area_mean  \\\n",
              "0    842302         M        17.99         10.38          122.80     1001.0   \n",
              "1    842517         M        20.57         17.77          132.90     1326.0   \n",
              "2  84300903         M        19.69         21.25          130.00     1203.0   \n",
              "3  84348301         M        11.42         20.38           77.58      386.1   \n",
              "4  84358402         M        20.29         14.34          135.10     1297.0   \n",
              "\n",
              "   smoothness_mean  compactness_mean  concavity_mean  concave_mean  ...  \\\n",
              "0          0.11840           0.27760          0.3001       0.14710  ...   \n",
              "1          0.08474           0.07864          0.0869       0.07017  ...   \n",
              "2          0.10960           0.15990          0.1974       0.12790  ...   \n",
              "3          0.14250           0.28390          0.2414       0.10520  ...   \n",
              "4          0.10030           0.13280          0.1980       0.10430  ...   \n",
              "\n",
              "   texture_extreme  perimeter_extreme  area_extreme  smoothness_extreme  \\\n",
              "0            17.33             184.60        2019.0              0.1622   \n",
              "1            23.41             158.80        1956.0              0.1238   \n",
              "2            25.53             152.50        1709.0              0.1444   \n",
              "3            26.50              98.87         567.7              0.2098   \n",
              "4            16.67             152.20        1575.0              0.1374   \n",
              "\n",
              "   compactness_extreme  concavity_extreme  concave_extreme  symmetry_extreme  \\\n",
              "0               0.6656             0.7119           0.2654            0.4601   \n",
              "1               0.1866             0.2416           0.1860            0.2750   \n",
              "2               0.4245             0.4504           0.2430            0.3613   \n",
              "3               0.8663             0.6869           0.2575            0.6638   \n",
              "4               0.2050             0.4000           0.1625            0.2364   \n",
              "\n",
              "   fractal_extreme  label  \n",
              "0          0.11890      1  \n",
              "1          0.08902      1  \n",
              "2          0.08758      1  \n",
              "3          0.17300      1  \n",
              "4          0.07678      1  \n",
              "\n",
              "[5 rows x 33 columns]"
            ],
            "text/html": [
              "\n",
              "  <div id=\"df-e3454c35-18d8-4c6f-8edb-23ffbaff4fde\">\n",
              "    <div class=\"colab-df-container\">\n",
              "      <div>\n",
              "<style scoped>\n",
              "    .dataframe tbody tr th:only-of-type {\n",
              "        vertical-align: middle;\n",
              "    }\n",
              "\n",
              "    .dataframe tbody tr th {\n",
              "        vertical-align: top;\n",
              "    }\n",
              "\n",
              "    .dataframe thead th {\n",
              "        text-align: right;\n",
              "    }\n",
              "</style>\n",
              "<table border=\"1\" class=\"dataframe\">\n",
              "  <thead>\n",
              "    <tr style=\"text-align: right;\">\n",
              "      <th></th>\n",
              "      <th>id</th>\n",
              "      <th>diagnosis</th>\n",
              "      <th>radius_mean</th>\n",
              "      <th>texture_mean</th>\n",
              "      <th>perimeter_mean</th>\n",
              "      <th>area_mean</th>\n",
              "      <th>smoothness_mean</th>\n",
              "      <th>compactness_mean</th>\n",
              "      <th>concavity_mean</th>\n",
              "      <th>concave_mean</th>\n",
              "      <th>...</th>\n",
              "      <th>texture_extreme</th>\n",
              "      <th>perimeter_extreme</th>\n",
              "      <th>area_extreme</th>\n",
              "      <th>smoothness_extreme</th>\n",
              "      <th>compactness_extreme</th>\n",
              "      <th>concavity_extreme</th>\n",
              "      <th>concave_extreme</th>\n",
              "      <th>symmetry_extreme</th>\n",
              "      <th>fractal_extreme</th>\n",
              "      <th>label</th>\n",
              "    </tr>\n",
              "  </thead>\n",
              "  <tbody>\n",
              "    <tr>\n",
              "      <th>0</th>\n",
              "      <td>842302</td>\n",
              "      <td>M</td>\n",
              "      <td>17.99</td>\n",
              "      <td>10.38</td>\n",
              "      <td>122.80</td>\n",
              "      <td>1001.0</td>\n",
              "      <td>0.11840</td>\n",
              "      <td>0.27760</td>\n",
              "      <td>0.3001</td>\n",
              "      <td>0.14710</td>\n",
              "      <td>...</td>\n",
              "      <td>17.33</td>\n",
              "      <td>184.60</td>\n",
              "      <td>2019.0</td>\n",
              "      <td>0.1622</td>\n",
              "      <td>0.6656</td>\n",
              "      <td>0.7119</td>\n",
              "      <td>0.2654</td>\n",
              "      <td>0.4601</td>\n",
              "      <td>0.11890</td>\n",
              "      <td>1</td>\n",
              "    </tr>\n",
              "    <tr>\n",
              "      <th>1</th>\n",
              "      <td>842517</td>\n",
              "      <td>M</td>\n",
              "      <td>20.57</td>\n",
              "      <td>17.77</td>\n",
              "      <td>132.90</td>\n",
              "      <td>1326.0</td>\n",
              "      <td>0.08474</td>\n",
              "      <td>0.07864</td>\n",
              "      <td>0.0869</td>\n",
              "      <td>0.07017</td>\n",
              "      <td>...</td>\n",
              "      <td>23.41</td>\n",
              "      <td>158.80</td>\n",
              "      <td>1956.0</td>\n",
              "      <td>0.1238</td>\n",
              "      <td>0.1866</td>\n",
              "      <td>0.2416</td>\n",
              "      <td>0.1860</td>\n",
              "      <td>0.2750</td>\n",
              "      <td>0.08902</td>\n",
              "      <td>1</td>\n",
              "    </tr>\n",
              "    <tr>\n",
              "      <th>2</th>\n",
              "      <td>84300903</td>\n",
              "      <td>M</td>\n",
              "      <td>19.69</td>\n",
              "      <td>21.25</td>\n",
              "      <td>130.00</td>\n",
              "      <td>1203.0</td>\n",
              "      <td>0.10960</td>\n",
              "      <td>0.15990</td>\n",
              "      <td>0.1974</td>\n",
              "      <td>0.12790</td>\n",
              "      <td>...</td>\n",
              "      <td>25.53</td>\n",
              "      <td>152.50</td>\n",
              "      <td>1709.0</td>\n",
              "      <td>0.1444</td>\n",
              "      <td>0.4245</td>\n",
              "      <td>0.4504</td>\n",
              "      <td>0.2430</td>\n",
              "      <td>0.3613</td>\n",
              "      <td>0.08758</td>\n",
              "      <td>1</td>\n",
              "    </tr>\n",
              "    <tr>\n",
              "      <th>3</th>\n",
              "      <td>84348301</td>\n",
              "      <td>M</td>\n",
              "      <td>11.42</td>\n",
              "      <td>20.38</td>\n",
              "      <td>77.58</td>\n",
              "      <td>386.1</td>\n",
              "      <td>0.14250</td>\n",
              "      <td>0.28390</td>\n",
              "      <td>0.2414</td>\n",
              "      <td>0.10520</td>\n",
              "      <td>...</td>\n",
              "      <td>26.50</td>\n",
              "      <td>98.87</td>\n",
              "      <td>567.7</td>\n",
              "      <td>0.2098</td>\n",
              "      <td>0.8663</td>\n",
              "      <td>0.6869</td>\n",
              "      <td>0.2575</td>\n",
              "      <td>0.6638</td>\n",
              "      <td>0.17300</td>\n",
              "      <td>1</td>\n",
              "    </tr>\n",
              "    <tr>\n",
              "      <th>4</th>\n",
              "      <td>84358402</td>\n",
              "      <td>M</td>\n",
              "      <td>20.29</td>\n",
              "      <td>14.34</td>\n",
              "      <td>135.10</td>\n",
              "      <td>1297.0</td>\n",
              "      <td>0.10030</td>\n",
              "      <td>0.13280</td>\n",
              "      <td>0.1980</td>\n",
              "      <td>0.10430</td>\n",
              "      <td>...</td>\n",
              "      <td>16.67</td>\n",
              "      <td>152.20</td>\n",
              "      <td>1575.0</td>\n",
              "      <td>0.1374</td>\n",
              "      <td>0.2050</td>\n",
              "      <td>0.4000</td>\n",
              "      <td>0.1625</td>\n",
              "      <td>0.2364</td>\n",
              "      <td>0.07678</td>\n",
              "      <td>1</td>\n",
              "    </tr>\n",
              "  </tbody>\n",
              "</table>\n",
              "<p>5 rows × 33 columns</p>\n",
              "</div>\n",
              "      <button class=\"colab-df-convert\" onclick=\"convertToInteractive('df-e3454c35-18d8-4c6f-8edb-23ffbaff4fde')\"\n",
              "              title=\"Convert this dataframe to an interactive table.\"\n",
              "              style=\"display:none;\">\n",
              "        \n",
              "  <svg xmlns=\"http://www.w3.org/2000/svg\" height=\"24px\"viewBox=\"0 0 24 24\"\n",
              "       width=\"24px\">\n",
              "    <path d=\"M0 0h24v24H0V0z\" fill=\"none\"/>\n",
              "    <path d=\"M18.56 5.44l.94 2.06.94-2.06 2.06-.94-2.06-.94-.94-2.06-.94 2.06-2.06.94zm-11 1L8.5 8.5l.94-2.06 2.06-.94-2.06-.94L8.5 2.5l-.94 2.06-2.06.94zm10 10l.94 2.06.94-2.06 2.06-.94-2.06-.94-.94-2.06-.94 2.06-2.06.94z\"/><path d=\"M17.41 7.96l-1.37-1.37c-.4-.4-.92-.59-1.43-.59-.52 0-1.04.2-1.43.59L10.3 9.45l-7.72 7.72c-.78.78-.78 2.05 0 2.83L4 21.41c.39.39.9.59 1.41.59.51 0 1.02-.2 1.41-.59l7.78-7.78 2.81-2.81c.8-.78.8-2.07 0-2.86zM5.41 20L4 18.59l7.72-7.72 1.47 1.35L5.41 20z\"/>\n",
              "  </svg>\n",
              "      </button>\n",
              "      \n",
              "  <style>\n",
              "    .colab-df-container {\n",
              "      display:flex;\n",
              "      flex-wrap:wrap;\n",
              "      gap: 12px;\n",
              "    }\n",
              "\n",
              "    .colab-df-convert {\n",
              "      background-color: #E8F0FE;\n",
              "      border: none;\n",
              "      border-radius: 50%;\n",
              "      cursor: pointer;\n",
              "      display: none;\n",
              "      fill: #1967D2;\n",
              "      height: 32px;\n",
              "      padding: 0 0 0 0;\n",
              "      width: 32px;\n",
              "    }\n",
              "\n",
              "    .colab-df-convert:hover {\n",
              "      background-color: #E2EBFA;\n",
              "      box-shadow: 0px 1px 2px rgba(60, 64, 67, 0.3), 0px 1px 3px 1px rgba(60, 64, 67, 0.15);\n",
              "      fill: #174EA6;\n",
              "    }\n",
              "\n",
              "    [theme=dark] .colab-df-convert {\n",
              "      background-color: #3B4455;\n",
              "      fill: #D2E3FC;\n",
              "    }\n",
              "\n",
              "    [theme=dark] .colab-df-convert:hover {\n",
              "      background-color: #434B5C;\n",
              "      box-shadow: 0px 1px 3px 1px rgba(0, 0, 0, 0.15);\n",
              "      filter: drop-shadow(0px 1px 2px rgba(0, 0, 0, 0.3));\n",
              "      fill: #FFFFFF;\n",
              "    }\n",
              "  </style>\n",
              "\n",
              "      <script>\n",
              "        const buttonEl =\n",
              "          document.querySelector('#df-e3454c35-18d8-4c6f-8edb-23ffbaff4fde button.colab-df-convert');\n",
              "        buttonEl.style.display =\n",
              "          google.colab.kernel.accessAllowed ? 'block' : 'none';\n",
              "\n",
              "        async function convertToInteractive(key) {\n",
              "          const element = document.querySelector('#df-e3454c35-18d8-4c6f-8edb-23ffbaff4fde');\n",
              "          const dataTable =\n",
              "            await google.colab.kernel.invokeFunction('convertToInteractive',\n",
              "                                                     [key], {});\n",
              "          if (!dataTable) return;\n",
              "\n",
              "          const docLinkHtml = 'Like what you see? Visit the ' +\n",
              "            '<a target=\"_blank\" href=https://colab.research.google.com/notebooks/data_table.ipynb>data table notebook</a>'\n",
              "            + ' to learn more about interactive tables.';\n",
              "          element.innerHTML = '';\n",
              "          dataTable['output_type'] = 'display_data';\n",
              "          await google.colab.output.renderOutput(dataTable, element);\n",
              "          const docLink = document.createElement('div');\n",
              "          docLink.innerHTML = docLinkHtml;\n",
              "          element.appendChild(docLink);\n",
              "        }\n",
              "      </script>\n",
              "    </div>\n",
              "  </div>\n",
              "  "
            ]
          },
          "metadata": {},
          "execution_count": 3
        }
      ]
    },
    {
      "cell_type": "code",
      "source": [
        "features = [\n",
        "    \"radius_extreme\",\n",
        "    \"texture_extreme\",\n",
        "    \"perimeter_extreme\",\n",
        "]\n",
        "label = \"label\"\n",
        "\n",
        "# train test split\n",
        "X_raw, X_raw_test, Y, Y_test = train_test_split(data[features].values, data[label].values, test_size=0.2, random_state=42)\n",
        "\n",
        "# Standardize the input\n",
        "scaler = StandardScaler()\n",
        "scaler.fit(X_raw)\n",
        "X = scaler.transform(X_raw)\n",
        "X_test = scaler.transform(X_raw_test)\n",
        "print(X.shape)\n",
        "# formatting\n",
        "Y = Y.reshape((-1, 1))\n"
      ],
      "metadata": {
        "colab": {
          "base_uri": "https://localhost:8080/"
        },
        "id": "nhRRaTDQVLUR",
        "outputId": "5ec17b0f-864d-42be-a42d-2b9a61e46e79"
      },
      "execution_count": null,
      "outputs": [
        {
          "output_type": "stream",
          "name": "stdout",
          "text": [
            "(455, 3)\n"
          ]
        }
      ]
    },
    {
      "cell_type": "code",
      "source": [
        "# forward pass for a simple 2-layer NN, with 3 hidden units\n",
        "np.random.seed(10)\n",
        "\n",
        "def sigmoid(x):\n",
        "    \"\"\"Calculates sigmoid function.\"\"\"\n",
        "    return 1. / (1 + np.exp(-x))\n",
        "\n",
        "# parameters for the first layer\n",
        "W_1 = np.ones((5, X.shape[1])) * 0.1\n",
        "print(f\"Shape of W_1 is {W_1.shape}\")\n",
        "\n",
        "\n",
        "b_1 = np.ones((5,1))\n",
        "print(f\"Shape of b_1 is {b_1.shape}\")\n",
        "\n",
        "# parameters for the second layer\n",
        "W_2 = np.ones((1, 1))\n",
        "print(f\"Shape of W_2 is {W_2.shape}\")\n",
        "\n",
        "\n",
        "b_2 = np.ones((1, 1)) * 0.1\n",
        "print(f\"Shape of b_1 is {b_2.shape}\")\n",
        "\n",
        "# calculate the forward propagation\n",
        "Z_1 = X @ W_1.T\n",
        "print(f\"\\nShape of Z_1 is {Z_1.shape}\")\n",
        "print(\"Samples for Z_1:\")\n",
        "print(Z_1[:5])\n",
        "\n",
        "\n"
      ],
      "metadata": {
        "colab": {
          "base_uri": "https://localhost:8080/"
        },
        "id": "vUnWAFV6cbbA",
        "outputId": "39b01ce4-22a7-412b-933e-b60f0d23f8b8"
      },
      "execution_count": null,
      "outputs": [
        {
          "output_type": "stream",
          "name": "stdout",
          "text": [
            "Shape of W_1 is (5, 3)\n",
            "Shape of b_1 is (5, 1)\n",
            "Shape of W_2 is (1, 1)\n",
            "Shape of b_1 is (1, 1)\n",
            "\n",
            "Shape of Z_1 is (455, 5)\n",
            "Samples for Z_1:\n",
            "[[-0.29570909 -0.29570909 -0.29570909 -0.29570909 -0.29570909]\n",
            " [ 0.55662103  0.55662103  0.55662103  0.55662103  0.55662103]\n",
            " [-0.35813153 -0.35813153 -0.35813153 -0.35813153 -0.35813153]\n",
            " [-0.01092391 -0.01092391 -0.01092391 -0.01092391 -0.01092391]\n",
            " [-0.35368832 -0.35368832 -0.35368832 -0.35368832 -0.35368832]]\n"
          ]
        }
      ]
    },
    {
      "cell_type": "code",
      "source": [
        "# train a NN with Keras\n",
        "from tensorflow import keras\n",
        "from tensorflow.keras import layers\n",
        "import pandas as pd\n"
      ],
      "metadata": {
        "id": "EK18Ybmx-7bK"
      },
      "execution_count": null,
      "outputs": []
    },
    {
      "cell_type": "code",
      "source": [
        "\n",
        "\n",
        "model = keras.Sequential([\n",
        "        layers.Dense(units=5, activation = 'relu', input_shape = [X.shape[1]]),\n",
        "        layers.Dense(units=1, activation='sigmoid'),\n",
        "])\n",
        "\n",
        "model.compile(\n",
        "    optimizer=\"adam\",\n",
        "    loss=\"binary_crossentropy\",\n",
        ")"
      ],
      "metadata": {
        "id": "RNENNXm0-s_x"
      },
      "execution_count": null,
      "outputs": []
    },
    {
      "cell_type": "code",
      "source": [
        "history = model.fit(\n",
        "    X, Y,\n",
        "    validation_data=(X_test, Y_test),\n",
        "    batch_size=32,\n",
        "    epochs=20,\n",
        "    verbose=1,\n",
        "    shuffle=True,\n",
        ")"
      ],
      "metadata": {
        "colab": {
          "base_uri": "https://localhost:8080/"
        },
        "id": "MHDWu9w4FGf5",
        "outputId": "4a78bae5-c68f-499e-bc6c-c4a0262f726a"
      },
      "execution_count": null,
      "outputs": [
        {
          "output_type": "stream",
          "name": "stdout",
          "text": [
            "Epoch 1/20\n",
            "15/15 [==============================] - 2s 35ms/step - loss: 0.6701 - val_loss: 0.6098\n",
            "Epoch 2/20\n",
            "15/15 [==============================] - 0s 6ms/step - loss: 0.6328 - val_loss: 0.5757\n",
            "Epoch 3/20\n",
            "15/15 [==============================] - 0s 5ms/step - loss: 0.5999 - val_loss: 0.5447\n",
            "Epoch 4/20\n",
            "15/15 [==============================] - 0s 6ms/step - loss: 0.5699 - val_loss: 0.5164\n",
            "Epoch 5/20\n",
            "15/15 [==============================] - 0s 6ms/step - loss: 0.5424 - val_loss: 0.4905\n",
            "Epoch 6/20\n",
            "15/15 [==============================] - 0s 6ms/step - loss: 0.5177 - val_loss: 0.4678\n",
            "Epoch 7/20\n",
            "15/15 [==============================] - 0s 5ms/step - loss: 0.4947 - val_loss: 0.4469\n",
            "Epoch 8/20\n",
            "15/15 [==============================] - 0s 5ms/step - loss: 0.4739 - val_loss: 0.4265\n",
            "Epoch 9/20\n",
            "15/15 [==============================] - 0s 5ms/step - loss: 0.4535 - val_loss: 0.4083\n",
            "Epoch 10/20\n",
            "15/15 [==============================] - 0s 5ms/step - loss: 0.4353 - val_loss: 0.3917\n",
            "Epoch 11/20\n",
            "15/15 [==============================] - 0s 5ms/step - loss: 0.4187 - val_loss: 0.3759\n",
            "Epoch 12/20\n",
            "15/15 [==============================] - 0s 6ms/step - loss: 0.4034 - val_loss: 0.3613\n",
            "Epoch 13/20\n",
            "15/15 [==============================] - 0s 6ms/step - loss: 0.3889 - val_loss: 0.3471\n",
            "Epoch 14/20\n",
            "15/15 [==============================] - 0s 5ms/step - loss: 0.3753 - val_loss: 0.3337\n",
            "Epoch 15/20\n",
            "15/15 [==============================] - 0s 5ms/step - loss: 0.3628 - val_loss: 0.3208\n",
            "Epoch 16/20\n",
            "15/15 [==============================] - 0s 6ms/step - loss: 0.3508 - val_loss: 0.3088\n",
            "Epoch 17/20\n",
            "15/15 [==============================] - 0s 5ms/step - loss: 0.3399 - val_loss: 0.2976\n",
            "Epoch 18/20\n",
            "15/15 [==============================] - 0s 5ms/step - loss: 0.3295 - val_loss: 0.2873\n",
            "Epoch 19/20\n",
            "15/15 [==============================] - 0s 5ms/step - loss: 0.3200 - val_loss: 0.2773\n",
            "Epoch 20/20\n",
            "15/15 [==============================] - 0s 5ms/step - loss: 0.3110 - val_loss: 0.2684\n"
          ]
        }
      ]
    },
    {
      "cell_type": "code",
      "source": [
        "roc_auc_score(y_true=Y_test, y_score=model.predict(X_test))"
      ],
      "metadata": {
        "colab": {
          "base_uri": "https://localhost:8080/"
        },
        "id": "wt9xxQqwJTv5",
        "outputId": "5a0b45bd-7bbf-432f-dce8-1b210a2119b0"
      },
      "execution_count": null,
      "outputs": [
        {
          "output_type": "stream",
          "name": "stdout",
          "text": [
            "4/4 [==============================] - 0s 7ms/step\n"
          ]
        },
        {
          "output_type": "execute_result",
          "data": {
            "text/plain": [
              "0.9921388797903702"
            ]
          },
          "metadata": {},
          "execution_count": 20
        }
      ]
    },
    {
      "cell_type": "code",
      "source": [
        "\n",
        "error = history.history['loss']\n",
        "print(f\"The value of the logloss metric is {error[len(error) - 1]}\")\n",
        "\n"
      ],
      "metadata": {
        "colab": {
          "base_uri": "https://localhost:8080/"
        },
        "id": "ZEJ-hzLGJ1N6",
        "outputId": "cc60053f-e1b0-415f-e481-c16594bfedac"
      },
      "execution_count": null,
      "outputs": [
        {
          "output_type": "stream",
          "name": "stdout",
          "text": [
            "The value of the logloss metric is 0.3110402226448059\n"
          ]
        }
      ]
    }
  ]
}